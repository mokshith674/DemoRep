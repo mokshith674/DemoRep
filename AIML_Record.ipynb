{
 "cells": [
  {
   "cell_type": "markdown",
   "id": "92ac4a02",
   "metadata": {},
   "source": [
    "# 1.Create two series as shown using pd. series( ) function.  \n",
    "Series — A = [10, 20, 30, 40, 50]\n",
    "\n",
    "Series — B = [40, 50, 60, 70, 80]\n"
   ]
  },
  {
   "cell_type": "markdown",
   "id": "f100f6aa",
   "metadata": {},
   "source": [
    "(i)\tGet the items not common to both"
   ]
  },
  {
   "cell_type": "code",
   "execution_count": 1,
   "id": "8ec15737",
   "metadata": {},
   "outputs": [
    {
     "name": "stdout",
     "output_type": "stream",
     "text": [
      "0    10\n",
      "1    20\n",
      "2    30\n",
      "5    60\n",
      "6    70\n",
      "7    80\n",
      "dtype: int64\n"
     ]
    }
   ],
   "source": [
    "import pandas as pd\n",
    "import numpy as np\n",
    "series_A=pd.Series([10,20,30,40,50])\n",
    "series_B=pd.Series([40,50,60,70,80])\n",
    "union=pd.Series(np.union1d(series_A,series_B))\n",
    "intersect=pd.Series(np.intersect1d(series_A,series_B))\n",
    "notcommonseries=union[~union.isin(intersect)]\n",
    "print(notcommonseries)"
   ]
  },
  {
   "cell_type": "markdown",
   "id": "cbc3f8aa",
   "metadata": {},
   "source": [
    "(ii)Identify the smallest and largest element in the Series A."
   ]
  },
  {
   "cell_type": "code",
   "execution_count": 3,
   "id": "a887149d",
   "metadata": {},
   "outputs": [
    {
     "name": "stdout",
     "output_type": "stream",
     "text": [
      "Largest number in series_A is: 50\n",
      "Smallest number in series_A is 10\n"
     ]
    }
   ],
   "source": [
    "print('Largest number in series_A is:',series_A.max())\n",
    "print('Smallest number in series_A is',series_A.min())"
   ]
  },
  {
   "cell_type": "markdown",
   "id": "b87b6909",
   "metadata": {},
   "source": [
    "(iii)Find the sum of Series B."
   ]
  },
  {
   "cell_type": "code",
   "execution_count": 5,
   "id": "126cc06e",
   "metadata": {},
   "outputs": [
    {
     "name": "stdout",
     "output_type": "stream",
     "text": [
      "The sum of Series_B is: 300\n"
     ]
    }
   ],
   "source": [
    "print('The sum of Series_B is:',series_B.sum())"
   ]
  },
  {
   "cell_type": "markdown",
   "id": "5345039f",
   "metadata": {},
   "source": [
    "(iv)Calculate average in the Series A"
   ]
  },
  {
   "cell_type": "code",
   "execution_count": 6,
   "id": "044bc08c",
   "metadata": {},
   "outputs": [
    {
     "name": "stdout",
     "output_type": "stream",
     "text": [
      "The average of series_A is: 30.0\n"
     ]
    }
   ],
   "source": [
    "print('The average of series_A is:',series_A.mean())"
   ]
  },
  {
   "cell_type": "markdown",
   "id": "63dd19b8",
   "metadata": {},
   "source": [
    "(v)Find median in the given Series B"
   ]
  },
  {
   "cell_type": "code",
   "execution_count": 7,
   "id": "c30a04c7",
   "metadata": {},
   "outputs": [
    {
     "name": "stdout",
     "output_type": "stream",
     "text": [
      "The median of series_B is: 60.0\n"
     ]
    }
   ],
   "source": [
    "print('The median of series_B is:',series_B.median())"
   ]
  },
  {
   "attachments": {},
   "cell_type": "markdown",
   "id": "9128dbc3",
   "metadata": {},
   "source": [
    "# 2.Create a data frame with the following data.\n",
    " "
   ]
  },
  {
   "cell_type": "code",
   "execution_count": 8,
   "id": "b7d36556",
   "metadata": {},
   "outputs": [
    {
     "name": "stdout",
     "output_type": "stream",
     "text": [
      "  FirstName lastname                Type      Department  Yoe  Salary\n",
      "0     Aryan    Singh  Full-time employee  Administration    2   20000\n",
      "1     Rohan  Agarwal               intem       Technical    3    5000\n",
      "2      Riya     Shah  Full-time employee  Administration    5   10000\n",
      "3      Yash   Bhatia  Part-time employee       Technical    7   10000\n",
      "4   Siddini   Khanna  Full-time employee      Management    6   20000\n"
     ]
    }
   ],
   "source": [
    "import pandas as pd\n",
    "import numpy as np\n",
    "data={\n",
    "    'FirstName':['Aryan','Rohan','Riya','Yash','Siddini'],\n",
    "    'lastname':['Singh','Agarwal','Shah','Bhatia','Khanna'],\n",
    "    'Type':['Full-time employee','intem','Full-time employee','Part-time employee','Full-time employee'],\n",
    "    'Department':['Administration','Technical','Administration','Technical','Management'],\n",
    "    'Yoe':[2,3,5,7,6],\n",
    "    'Salary':[20000,5000,10000,10000,20000]\n",
    "    }\n",
    "df=pd.DataFrame(data)\n",
    "print(df)"
   ]
  },
  {
   "cell_type": "markdown",
   "id": "e07d28a6",
   "metadata": {},
   "source": [
    "a) Make a pivot table that shows the average salary of each type of employee for each department."
   ]
  },
  {
   "cell_type": "code",
   "execution_count": 9,
   "id": "6d12af2e",
   "metadata": {},
   "outputs": [
    {
     "data": {
      "text/html": [
       "<div>\n",
       "<style scoped>\n",
       "    .dataframe tbody tr th:only-of-type {\n",
       "        vertical-align: middle;\n",
       "    }\n",
       "\n",
       "    .dataframe tbody tr th {\n",
       "        vertical-align: top;\n",
       "    }\n",
       "\n",
       "    .dataframe thead th {\n",
       "        text-align: right;\n",
       "    }\n",
       "</style>\n",
       "<table border=\"1\" class=\"dataframe\">\n",
       "  <thead>\n",
       "    <tr style=\"text-align: right;\">\n",
       "      <th></th>\n",
       "      <th></th>\n",
       "      <th>Salary</th>\n",
       "    </tr>\n",
       "    <tr>\n",
       "      <th>Type</th>\n",
       "      <th>Department</th>\n",
       "      <th></th>\n",
       "    </tr>\n",
       "  </thead>\n",
       "  <tbody>\n",
       "    <tr>\n",
       "      <th rowspan=\"2\" valign=\"top\">Full-time employee</th>\n",
       "      <th>Administration</th>\n",
       "      <td>15000</td>\n",
       "    </tr>\n",
       "    <tr>\n",
       "      <th>Management</th>\n",
       "      <td>20000</td>\n",
       "    </tr>\n",
       "    <tr>\n",
       "      <th>Part-time employee</th>\n",
       "      <th>Technical</th>\n",
       "      <td>10000</td>\n",
       "    </tr>\n",
       "    <tr>\n",
       "      <th>intem</th>\n",
       "      <th>Technical</th>\n",
       "      <td>5000</td>\n",
       "    </tr>\n",
       "  </tbody>\n",
       "</table>\n",
       "</div>"
      ],
      "text/plain": [
       "                                   Salary\n",
       "Type               Department            \n",
       "Full-time employee Administration   15000\n",
       "                   Management       20000\n",
       "Part-time employee Technical        10000\n",
       "intem              Technical         5000"
      ]
     },
     "execution_count": 9,
     "metadata": {},
     "output_type": "execute_result"
    }
   ],
   "source": [
    "table=pd.pivot_table(df,index=['Type','Department'],values='Salary',aggfunc='mean')\n",
    "table"
   ]
  },
  {
   "cell_type": "markdown",
   "id": "beabc5c3",
   "metadata": {},
   "source": [
    "b) Make a pivot table that shows the sum and mean of the salaries of each type of    employee and the number of employees of each type."
   ]
  },
  {
   "cell_type": "code",
   "execution_count": 11,
   "id": "6563e3f6",
   "metadata": {},
   "outputs": [
    {
     "name": "stdout",
     "output_type": "stream",
     "text": [
      "                            mean    sum\n",
      "                          Salary Salary\n",
      "Type                                   \n",
      "Full-time employee  16666.666667  50000\n",
      "Part-time employee  10000.000000  10000\n",
      "intem                5000.000000   5000\n"
     ]
    }
   ],
   "source": [
    "pivot=pd.pivot_table(data=df,index='Type',values='Salary',aggfunc=['mean','sum'])\n",
    "print(pivot)"
   ]
  },
  {
   "cell_type": "code",
   "execution_count": 12,
   "id": "0aec5991",
   "metadata": {},
   "outputs": [
    {
     "data": {
      "text/html": [
       "<div>\n",
       "<style scoped>\n",
       "    .dataframe tbody tr th:only-of-type {\n",
       "        vertical-align: middle;\n",
       "    }\n",
       "\n",
       "    .dataframe tbody tr th {\n",
       "        vertical-align: top;\n",
       "    }\n",
       "\n",
       "    .dataframe thead th {\n",
       "        text-align: right;\n",
       "    }\n",
       "</style>\n",
       "<table border=\"1\" class=\"dataframe\">\n",
       "  <thead>\n",
       "    <tr style=\"text-align: right;\">\n",
       "      <th></th>\n",
       "      <th>Salary</th>\n",
       "    </tr>\n",
       "    <tr>\n",
       "      <th>Type</th>\n",
       "      <th></th>\n",
       "    </tr>\n",
       "  </thead>\n",
       "  <tbody>\n",
       "    <tr>\n",
       "      <th>Full-time employee</th>\n",
       "      <td>3</td>\n",
       "    </tr>\n",
       "    <tr>\n",
       "      <th>Part-time employee</th>\n",
       "      <td>1</td>\n",
       "    </tr>\n",
       "    <tr>\n",
       "      <th>intem</th>\n",
       "      <td>1</td>\n",
       "    </tr>\n",
       "  </tbody>\n",
       "</table>\n",
       "</div>"
      ],
      "text/plain": [
       "                    Salary\n",
       "Type                      \n",
       "Full-time employee       3\n",
       "Part-time employee       1\n",
       "intem                    1"
      ]
     },
     "execution_count": 12,
     "metadata": {},
     "output_type": "execute_result"
    }
   ],
   "source": [
    "df.pivot_table(index='Type',values='Salary',aggfunc='count')"
   ]
  },
  {
   "cell_type": "markdown",
   "id": "d1640cba",
   "metadata": {},
   "source": [
    "c) Make a pivot table that shows standard deviation for salary column."
   ]
  },
  {
   "cell_type": "code",
   "execution_count": 13,
   "id": "596952b0",
   "metadata": {},
   "outputs": [
    {
     "data": {
      "text/html": [
       "<div>\n",
       "<style scoped>\n",
       "    .dataframe tbody tr th:only-of-type {\n",
       "        vertical-align: middle;\n",
       "    }\n",
       "\n",
       "    .dataframe tbody tr th {\n",
       "        vertical-align: top;\n",
       "    }\n",
       "\n",
       "    .dataframe thead th {\n",
       "        text-align: right;\n",
       "    }\n",
       "</style>\n",
       "<table border=\"1\" class=\"dataframe\">\n",
       "  <thead>\n",
       "    <tr style=\"text-align: right;\">\n",
       "      <th></th>\n",
       "      <th>Salary</th>\n",
       "    </tr>\n",
       "    <tr>\n",
       "      <th>Type</th>\n",
       "      <th></th>\n",
       "    </tr>\n",
       "  </thead>\n",
       "  <tbody>\n",
       "    <tr>\n",
       "      <th>Full-time employee</th>\n",
       "      <td>5773.502692</td>\n",
       "    </tr>\n",
       "  </tbody>\n",
       "</table>\n",
       "</div>"
      ],
      "text/plain": [
       "                         Salary\n",
       "Type                           \n",
       "Full-time employee  5773.502692"
      ]
     },
     "execution_count": 13,
     "metadata": {},
     "output_type": "execute_result"
    }
   ],
   "source": [
    "df.pivot_table(index='Type',values='Salary',aggfunc='std')"
   ]
  },
  {
   "cell_type": "markdown",
   "id": "59e0385c",
   "metadata": {},
   "source": [
    "# 3.Write python code to explain map (), filter (), reduce (), lambda()"
   ]
  },
  {
   "cell_type": "markdown",
   "id": "fec2b715",
   "metadata": {},
   "source": [
    "Lambda Function"
   ]
  },
  {
   "cell_type": "code",
   "execution_count": 14,
   "id": "f3628941",
   "metadata": {},
   "outputs": [
    {
     "data": {
      "text/plain": [
       "5"
      ]
     },
     "execution_count": 14,
     "metadata": {},
     "output_type": "execute_result"
    }
   ],
   "source": [
    "Max = lambda a, b : a if(a > b) else b\n",
    "Max(4,5)"
   ]
  },
  {
   "cell_type": "code",
   "execution_count": 15,
   "id": "9bcf27af",
   "metadata": {},
   "outputs": [
    {
     "name": "stdout",
     "output_type": "stream",
     "text": [
      "6\n"
     ]
    }
   ],
   "source": [
    "x=lambda a:a+1\n",
    "print(x(5))"
   ]
  },
  {
   "cell_type": "code",
   "execution_count": 16,
   "id": "012aff5e",
   "metadata": {},
   "outputs": [
    {
     "name": "stdout",
     "output_type": "stream",
     "text": [
      "13\n"
     ]
    }
   ],
   "source": [
    "x=lambda a,b,c:a+b+c\n",
    "print(x(5,6,2))"
   ]
  },
  {
   "cell_type": "markdown",
   "id": "af560f23",
   "metadata": {},
   "source": [
    "Map Function"
   ]
  },
  {
   "cell_type": "code",
   "execution_count": 19,
   "id": "4161a32b",
   "metadata": {},
   "outputs": [
    {
     "name": "stdout",
     "output_type": "stream",
     "text": [
      "[8, 10, 11, 12, 13]\n"
     ]
    }
   ],
   "source": [
    "def add4(x):\n",
    "    return x+4\n",
    "list1 = [4,6,7,8,9]\n",
    "list2 = list(map(add4,list1))\n",
    "print(list2)"
   ]
  },
  {
   "cell_type": "code",
   "execution_count": 20,
   "id": "9d4a6669",
   "metadata": {},
   "outputs": [
    {
     "name": "stdout",
     "output_type": "stream",
     "text": [
      "[True, False, False, True, False]\n"
     ]
    }
   ],
   "source": [
    "def starts_with_A(s):\n",
    "    return s[0]==\"A\"\n",
    "fruit=[\"Apple\",\"banana\",\"pear\",\"Apricot\",\"orange\"]\n",
    "map_object=map(starts_with_A,fruit)\n",
    "print(list(map_object))"
   ]
  },
  {
   "cell_type": "markdown",
   "id": "8cdd03b9",
   "metadata": {},
   "source": [
    "Filter Function"
   ]
  },
  {
   "cell_type": "code",
   "execution_count": 21,
   "id": "370e46b7",
   "metadata": {},
   "outputs": [
    {
     "name": "stdout",
     "output_type": "stream",
     "text": [
      "[4, 6, 8]\n"
     ]
    }
   ],
   "source": [
    "def oddeven(x):\n",
    "    if x%2 == 0:\n",
    "        return True\n",
    "    else:\n",
    "        return False\n",
    "list1 = [4,5,6,7,8,9]\n",
    "evenlist = list(filter(oddeven,list1))\n",
    "print(evenlist)"
   ]
  },
  {
   "cell_type": "code",
   "execution_count": 22,
   "id": "e38aa63c",
   "metadata": {},
   "outputs": [
    {
     "name": "stdout",
     "output_type": "stream",
     "text": [
      "['Apple', 'Apricot']\n"
     ]
    }
   ],
   "source": [
    "def starts_with_A(s):\n",
    "    return s[0]==\"A\"\n",
    "fruit=[\"Apple\",\"banana\",\"pear\",\"Apricot\",\"orange\"]\n",
    "filter_object=filter(starts_with_A,fruit)\n",
    "print(list(filter_object))"
   ]
  },
  {
   "cell_type": "markdown",
   "id": "dcd25b20",
   "metadata": {},
   "source": [
    "Reduce Function"
   ]
  },
  {
   "cell_type": "code",
   "execution_count": 23,
   "id": "1379381a",
   "metadata": {},
   "outputs": [
    {
     "name": "stdout",
     "output_type": "stream",
     "text": [
      "30\n"
     ]
    }
   ],
   "source": [
    "from functools import reduce\n",
    "def sum(x,y):\n",
    "    return x+y\n",
    "list1 = [6,7,8,9]\n",
    "s = reduce(sum,list1)\n",
    "print(s)\n"
   ]
  },
  {
   "cell_type": "markdown",
   "id": "bd65cfa9",
   "metadata": {},
   "source": [
    "# 4.Ramesh decides to walk 10000 steps every day to combat the effect that lockdown has had on his body’s agility, mobility, flexibility and strength. Consider the following data from fitness tracker over a period of 10 days. "
   ]
  },
  {
   "cell_type": "code",
   "execution_count": 24,
   "id": "bc1d2a84",
   "metadata": {},
   "outputs": [
    {
     "name": "stdout",
     "output_type": "stream",
     "text": [
      "   Day_number  Steps_Walked\n",
      "0           1          4335\n",
      "1           2          9552\n",
      "2           3          7332\n",
      "3           4          4503\n",
      "4           5          5335\n",
      "5           6          7552\n",
      "6           7          8332\n",
      "7           8          6004\n",
      "8           9          8965\n",
      "9          10          7699\n"
     ]
    }
   ],
   "source": [
    "import pandas as pd\n",
    "arr={\n",
    "    'Day_number':[1,2,3,4,5,6,7,8,9,10],\n",
    "    'Steps_Walked':[4335,9552,7332,4503,5335,7552,8332,6004,8965,7699]\n",
    "}\n",
    "df=pd.DataFrame(arr)\n",
    "print(df)"
   ]
  },
  {
   "cell_type": "markdown",
   "id": "99ef7ff2",
   "metadata": {},
   "source": [
    "• Code to add 1000 steps to all the observations. "
   ]
  },
  {
   "cell_type": "code",
   "execution_count": 26,
   "id": "02688a80",
   "metadata": {},
   "outputs": [
    {
     "name": "stdout",
     "output_type": "stream",
     "text": [
      "0     5335\n",
      "1    10552\n",
      "2     8332\n",
      "3     5503\n",
      "4     6335\n",
      "5     8552\n",
      "6     9332\n",
      "7     7004\n",
      "8     9965\n",
      "9     8699\n",
      "Name: Steps_Walked, dtype: int64\n"
     ]
    }
   ],
   "source": [
    "arr['steps_walked']=df['Steps_Walked']+1000\n",
    "print(arr['steps_walked'])"
   ]
  },
  {
   "cell_type": "markdown",
   "id": "3881526b",
   "metadata": {},
   "source": [
    "•\tCode to find out the days on which Ramesh walked more than 7000 steps. "
   ]
  },
  {
   "cell_type": "code",
   "execution_count": 27,
   "id": "9bcd455f",
   "metadata": {},
   "outputs": [
    {
     "data": {
      "text/html": [
       "<div>\n",
       "<style scoped>\n",
       "    .dataframe tbody tr th:only-of-type {\n",
       "        vertical-align: middle;\n",
       "    }\n",
       "\n",
       "    .dataframe tbody tr th {\n",
       "        vertical-align: top;\n",
       "    }\n",
       "\n",
       "    .dataframe thead th {\n",
       "        text-align: right;\n",
       "    }\n",
       "</style>\n",
       "<table border=\"1\" class=\"dataframe\">\n",
       "  <thead>\n",
       "    <tr style=\"text-align: right;\">\n",
       "      <th></th>\n",
       "      <th>Day_number</th>\n",
       "      <th>Steps_Walked</th>\n",
       "    </tr>\n",
       "  </thead>\n",
       "  <tbody>\n",
       "    <tr>\n",
       "      <th>1</th>\n",
       "      <td>2</td>\n",
       "      <td>9552</td>\n",
       "    </tr>\n",
       "    <tr>\n",
       "      <th>2</th>\n",
       "      <td>3</td>\n",
       "      <td>7332</td>\n",
       "    </tr>\n",
       "    <tr>\n",
       "      <th>5</th>\n",
       "      <td>6</td>\n",
       "      <td>7552</td>\n",
       "    </tr>\n",
       "    <tr>\n",
       "      <th>6</th>\n",
       "      <td>7</td>\n",
       "      <td>8332</td>\n",
       "    </tr>\n",
       "    <tr>\n",
       "      <th>8</th>\n",
       "      <td>9</td>\n",
       "      <td>8965</td>\n",
       "    </tr>\n",
       "    <tr>\n",
       "      <th>9</th>\n",
       "      <td>10</td>\n",
       "      <td>7699</td>\n",
       "    </tr>\n",
       "  </tbody>\n",
       "</table>\n",
       "</div>"
      ],
      "text/plain": [
       "   Day_number  Steps_Walked\n",
       "1           2          9552\n",
       "2           3          7332\n",
       "5           6          7552\n",
       "6           7          8332\n",
       "8           9          8965\n",
       "9          10          7699"
      ]
     },
     "execution_count": 27,
     "metadata": {},
     "output_type": "execute_result"
    }
   ],
   "source": [
    "days_more_than_7k=df.loc[df['Steps_Walked']>7000]\n",
    "days_more_than_7k"
   ]
  },
  {
   "cell_type": "markdown",
   "id": "a038adb5",
   "metadata": {},
   "source": [
    "# 5.\tPerform the following operations on car manufacturing company dataset auto-mpg. csv. Write code given below in  Pand /numpy.\n",
    "• Read  data from  auto-mpg.csv"
   ]
  },
  {
   "cell_type": "code",
   "execution_count": 29,
   "id": "ee4b241e",
   "metadata": {},
   "outputs": [
    {
     "data": {
      "text/html": [
       "<div>\n",
       "<style scoped>\n",
       "    .dataframe tbody tr th:only-of-type {\n",
       "        vertical-align: middle;\n",
       "    }\n",
       "\n",
       "    .dataframe tbody tr th {\n",
       "        vertical-align: top;\n",
       "    }\n",
       "\n",
       "    .dataframe thead th {\n",
       "        text-align: right;\n",
       "    }\n",
       "</style>\n",
       "<table border=\"1\" class=\"dataframe\">\n",
       "  <thead>\n",
       "    <tr style=\"text-align: right;\">\n",
       "      <th></th>\n",
       "      <th>mpg</th>\n",
       "      <th>Cylinder</th>\n",
       "      <th>Displacement</th>\n",
       "      <th>HP</th>\n",
       "      <th>Weight</th>\n",
       "      <th>Accleartion</th>\n",
       "      <th>Modelyear</th>\n",
       "      <th>Origin</th>\n",
       "      <th>Car-name</th>\n",
       "    </tr>\n",
       "  </thead>\n",
       "  <tbody>\n",
       "    <tr>\n",
       "      <th>0</th>\n",
       "      <td>18</td>\n",
       "      <td>4</td>\n",
       "      <td>300</td>\n",
       "      <td>130</td>\n",
       "      <td>3504</td>\n",
       "      <td>12.0</td>\n",
       "      <td>70</td>\n",
       "      <td>1</td>\n",
       "      <td>Honda</td>\n",
       "    </tr>\n",
       "    <tr>\n",
       "      <th>1</th>\n",
       "      <td>15</td>\n",
       "      <td>8</td>\n",
       "      <td>325</td>\n",
       "      <td>165</td>\n",
       "      <td>3645</td>\n",
       "      <td>15.5</td>\n",
       "      <td>71</td>\n",
       "      <td>1</td>\n",
       "      <td>Nexon</td>\n",
       "    </tr>\n",
       "    <tr>\n",
       "      <th>2</th>\n",
       "      <td>18</td>\n",
       "      <td>8</td>\n",
       "      <td>318</td>\n",
       "      <td>160</td>\n",
       "      <td>3440</td>\n",
       "      <td>11.0</td>\n",
       "      <td>70</td>\n",
       "      <td>1</td>\n",
       "      <td>Ford</td>\n",
       "    </tr>\n",
       "    <tr>\n",
       "      <th>3</th>\n",
       "      <td>16</td>\n",
       "      <td>6</td>\n",
       "      <td>305</td>\n",
       "      <td>160</td>\n",
       "      <td>3450</td>\n",
       "      <td>12.0</td>\n",
       "      <td>75</td>\n",
       "      <td>1</td>\n",
       "      <td>Indica</td>\n",
       "    </tr>\n",
       "    <tr>\n",
       "      <th>4</th>\n",
       "      <td>17</td>\n",
       "      <td>8</td>\n",
       "      <td>307</td>\n",
       "      <td>150</td>\n",
       "      <td>3449</td>\n",
       "      <td>10.5</td>\n",
       "      <td>80</td>\n",
       "      <td>1</td>\n",
       "      <td>Swift</td>\n",
       "    </tr>\n",
       "  </tbody>\n",
       "</table>\n",
       "</div>"
      ],
      "text/plain": [
       "   mpg  Cylinder  Displacement   HP  Weight  Accleartion  Modelyear  Origin  \\\n",
       "0   18         4           300  130    3504         12.0         70       1   \n",
       "1   15         8           325  165    3645         15.5         71       1   \n",
       "2   18         8           318  160    3440         11.0         70       1   \n",
       "3   16         6           305  160    3450         12.0         75       1   \n",
       "4   17         8           307  150    3449         10.5         80       1   \n",
       "\n",
       "  Car-name  \n",
       "0    Honda  \n",
       "1    Nexon  \n",
       "2     Ford  \n",
       "3   Indica  \n",
       "4    Swift  "
      ]
     },
     "execution_count": 29,
     "metadata": {},
     "output_type": "execute_result"
    }
   ],
   "source": [
    "import pandas as pd\n",
    "df=pd.read_csv(\"D:\\\\Dataset\\\\Auto_mpg.csv.csv\")\n",
    "df"
   ]
  },
  {
   "cell_type": "markdown",
   "id": "2caf5aa4",
   "metadata": {},
   "source": [
    "•Give code to get all cars with 8 cylinders."
   ]
  },
  {
   "cell_type": "code",
   "execution_count": 30,
   "id": "17e1edc5",
   "metadata": {},
   "outputs": [
    {
     "data": {
      "text/html": [
       "<div>\n",
       "<style scoped>\n",
       "    .dataframe tbody tr th:only-of-type {\n",
       "        vertical-align: middle;\n",
       "    }\n",
       "\n",
       "    .dataframe tbody tr th {\n",
       "        vertical-align: top;\n",
       "    }\n",
       "\n",
       "    .dataframe thead th {\n",
       "        text-align: right;\n",
       "    }\n",
       "</style>\n",
       "<table border=\"1\" class=\"dataframe\">\n",
       "  <thead>\n",
       "    <tr style=\"text-align: right;\">\n",
       "      <th></th>\n",
       "      <th>mpg</th>\n",
       "      <th>Cylinder</th>\n",
       "      <th>Displacement</th>\n",
       "      <th>HP</th>\n",
       "      <th>Weight</th>\n",
       "      <th>Accleartion</th>\n",
       "      <th>Modelyear</th>\n",
       "      <th>Origin</th>\n",
       "      <th>Car-name</th>\n",
       "    </tr>\n",
       "  </thead>\n",
       "  <tbody>\n",
       "    <tr>\n",
       "      <th>1</th>\n",
       "      <td>15</td>\n",
       "      <td>8</td>\n",
       "      <td>325</td>\n",
       "      <td>165</td>\n",
       "      <td>3645</td>\n",
       "      <td>15.5</td>\n",
       "      <td>71</td>\n",
       "      <td>1</td>\n",
       "      <td>Nexon</td>\n",
       "    </tr>\n",
       "    <tr>\n",
       "      <th>2</th>\n",
       "      <td>18</td>\n",
       "      <td>8</td>\n",
       "      <td>318</td>\n",
       "      <td>160</td>\n",
       "      <td>3440</td>\n",
       "      <td>11.0</td>\n",
       "      <td>70</td>\n",
       "      <td>1</td>\n",
       "      <td>Ford</td>\n",
       "    </tr>\n",
       "    <tr>\n",
       "      <th>4</th>\n",
       "      <td>17</td>\n",
       "      <td>8</td>\n",
       "      <td>307</td>\n",
       "      <td>150</td>\n",
       "      <td>3449</td>\n",
       "      <td>10.5</td>\n",
       "      <td>80</td>\n",
       "      <td>1</td>\n",
       "      <td>Swift</td>\n",
       "    </tr>\n",
       "  </tbody>\n",
       "</table>\n",
       "</div>"
      ],
      "text/plain": [
       "   mpg  Cylinder  Displacement   HP  Weight  Accleartion  Modelyear  Origin  \\\n",
       "1   15         8           325  165    3645         15.5         71       1   \n",
       "2   18         8           318  160    3440         11.0         70       1   \n",
       "4   17         8           307  150    3449         10.5         80       1   \n",
       "\n",
       "  Car-name  \n",
       "1    Nexon  \n",
       "2     Ford  \n",
       "4    Swift  "
      ]
     },
     "execution_count": 30,
     "metadata": {},
     "output_type": "execute_result"
    }
   ],
   "source": [
    "matched=df['Cylinder']==8\n",
    "new_df=df[matched]\n",
    "new_df"
   ]
  },
  {
   "cell_type": "markdown",
   "id": "597547c9",
   "metadata": {},
   "source": [
    "•Get the number of Cars manufactured in each year\n",
    "\n"
   ]
  },
  {
   "cell_type": "code",
   "execution_count": 31,
   "id": "267d9098",
   "metadata": {},
   "outputs": [
    {
     "data": {
      "text/html": [
       "<div>\n",
       "<style scoped>\n",
       "    .dataframe tbody tr th:only-of-type {\n",
       "        vertical-align: middle;\n",
       "    }\n",
       "\n",
       "    .dataframe tbody tr th {\n",
       "        vertical-align: top;\n",
       "    }\n",
       "\n",
       "    .dataframe thead th {\n",
       "        text-align: right;\n",
       "    }\n",
       "</style>\n",
       "<table border=\"1\" class=\"dataframe\">\n",
       "  <thead>\n",
       "    <tr style=\"text-align: right;\">\n",
       "      <th></th>\n",
       "      <th>mpg</th>\n",
       "      <th>Cylinder</th>\n",
       "      <th>Displacement</th>\n",
       "      <th>HP</th>\n",
       "      <th>Weight</th>\n",
       "      <th>Accleartion</th>\n",
       "      <th>Origin</th>\n",
       "      <th>Car-name</th>\n",
       "    </tr>\n",
       "    <tr>\n",
       "      <th>Modelyear</th>\n",
       "      <th></th>\n",
       "      <th></th>\n",
       "      <th></th>\n",
       "      <th></th>\n",
       "      <th></th>\n",
       "      <th></th>\n",
       "      <th></th>\n",
       "      <th></th>\n",
       "    </tr>\n",
       "  </thead>\n",
       "  <tbody>\n",
       "    <tr>\n",
       "      <th>70</th>\n",
       "      <td>2</td>\n",
       "      <td>2</td>\n",
       "      <td>2</td>\n",
       "      <td>2</td>\n",
       "      <td>2</td>\n",
       "      <td>2</td>\n",
       "      <td>2</td>\n",
       "      <td>2</td>\n",
       "    </tr>\n",
       "    <tr>\n",
       "      <th>71</th>\n",
       "      <td>1</td>\n",
       "      <td>1</td>\n",
       "      <td>1</td>\n",
       "      <td>1</td>\n",
       "      <td>1</td>\n",
       "      <td>1</td>\n",
       "      <td>1</td>\n",
       "      <td>1</td>\n",
       "    </tr>\n",
       "    <tr>\n",
       "      <th>75</th>\n",
       "      <td>1</td>\n",
       "      <td>1</td>\n",
       "      <td>1</td>\n",
       "      <td>1</td>\n",
       "      <td>1</td>\n",
       "      <td>1</td>\n",
       "      <td>1</td>\n",
       "      <td>1</td>\n",
       "    </tr>\n",
       "    <tr>\n",
       "      <th>80</th>\n",
       "      <td>1</td>\n",
       "      <td>1</td>\n",
       "      <td>1</td>\n",
       "      <td>1</td>\n",
       "      <td>1</td>\n",
       "      <td>1</td>\n",
       "      <td>1</td>\n",
       "      <td>1</td>\n",
       "    </tr>\n",
       "  </tbody>\n",
       "</table>\n",
       "</div>"
      ],
      "text/plain": [
       "           mpg  Cylinder  Displacement  HP  Weight  Accleartion  Origin  \\\n",
       "Modelyear                                                                 \n",
       "70           2         2             2   2       2            2       2   \n",
       "71           1         1             1   1       1            1       1   \n",
       "75           1         1             1   1       1            1       1   \n",
       "80           1         1             1   1       1            1       1   \n",
       "\n",
       "           Car-name  \n",
       "Modelyear            \n",
       "70                2  \n",
       "71                1  \n",
       "75                1  \n",
       "80                1  "
      ]
     },
     "execution_count": 31,
     "metadata": {},
     "output_type": "execute_result"
    }
   ],
   "source": [
    "df.groupby(['Modelyear']).count()"
   ]
  },
  {
   "cell_type": "code",
   "execution_count": null,
   "id": "96e21cab",
   "metadata": {},
   "outputs": [],
   "source": []
  }
 ],
 "metadata": {
  "kernelspec": {
   "display_name": "Python 3 (ipykernel)",
   "language": "python",
   "name": "python3"
  },
  "language_info": {
   "codemirror_mode": {
    "name": "ipython",
    "version": 3
   },
   "file_extension": ".py",
   "mimetype": "text/x-python",
   "name": "python",
   "nbconvert_exporter": "python",
   "pygments_lexer": "ipython3",
   "version": "3.11.3"
  }
 },
 "nbformat": 4,
 "nbformat_minor": 5
}
