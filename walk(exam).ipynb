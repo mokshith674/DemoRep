{
 "cells": [
  {
   "cell_type": "code",
   "execution_count": 1,
   "id": "df397606",
   "metadata": {},
   "outputs": [
    {
     "name": "stdout",
     "output_type": "stream",
     "text": [
      "   day  steps\n",
      "0    1   4335\n",
      "1    2   9552\n",
      "2    3   7332\n",
      "3    4   4504\n",
      "4    5   5335\n",
      "5    6   7552\n",
      "6    7   8332\n",
      "7    8   6504\n",
      "8    9   8965\n",
      "9   10   7689\n"
     ]
    }
   ],
   "source": [
    "import pandas as pd\n",
    "data={\n",
    "    'day':[1,2,3,4,5,6,7,8,9,10],\n",
    "    'steps':[4335,9552,7332,4504,5335,7552,8332,6504,8965,7689]\n",
    "    }\n",
    "df=pd.DataFrame(data)\n",
    "print(df)"
   ]
  },
  {
   "cell_type": "code",
   "execution_count": 2,
   "id": "8d06c9e0",
   "metadata": {},
   "outputs": [
    {
     "name": "stdout",
     "output_type": "stream",
     "text": [
      "0     5335\n",
      "1    10552\n",
      "2     8332\n",
      "3     5504\n",
      "4     6335\n",
      "5     8552\n",
      "6     9332\n",
      "7     7504\n",
      "8     9965\n",
      "9     8689\n",
      "Name: steps, dtype: int64\n"
     ]
    }
   ],
   "source": [
    "arr=df['steps']+1000\n",
    "print(arr)"
   ]
  },
  {
   "cell_type": "code",
   "execution_count": 3,
   "id": "659713cf",
   "metadata": {},
   "outputs": [
    {
     "name": "stdout",
     "output_type": "stream",
     "text": [
      "   day  steps\n",
      "1    2   9552\n",
      "2    3   7332\n",
      "5    6   7552\n",
      "6    7   8332\n",
      "8    9   8965\n",
      "9   10   7689\n"
     ]
    }
   ],
   "source": [
    "walk=df.loc[df['steps']>7000]\n",
    "print(walk)"
   ]
  },
  {
   "cell_type": "code",
   "execution_count": null,
   "id": "4fe73d6c",
   "metadata": {},
   "outputs": [],
   "source": []
  }
 ],
 "metadata": {
  "kernelspec": {
   "display_name": "Python 3 (ipykernel)",
   "language": "python",
   "name": "python3"
  },
  "language_info": {
   "codemirror_mode": {
    "name": "ipython",
    "version": 3
   },
   "file_extension": ".py",
   "mimetype": "text/x-python",
   "name": "python",
   "nbconvert_exporter": "python",
   "pygments_lexer": "ipython3",
   "version": "3.11.4"
  }
 },
 "nbformat": 4,
 "nbformat_minor": 5
}
